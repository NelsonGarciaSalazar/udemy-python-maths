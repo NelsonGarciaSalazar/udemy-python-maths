{
 "cells": [
  {
   "cell_type": "code",
   "execution_count": null,
   "id": "cd1eb965",
   "metadata": {},
   "outputs": [],
   "source": [
    "from sympy import symbols, Integral, sin, Eq, solve, init_printing\n",
    "from IPython.display import display\n",
    "import nbformat as nbf"
   ]
  }
 ],
 "metadata": {
  "kernelspec": {
   "display_name": "Python 3",
   "language": "python",
   "name": "python3"
  },
  "language_info": {
   "codemirror_mode": {
    "name": "ipython",
    "version": 3
   },
   "file_extension": ".py",
   "mimetype": "text/x-python",
   "name": "python",
   "nbconvert_exporter": "python",
   "pygments_lexer": "ipython3",
   "version": "3.12.1"
  }
 },
 "nbformat": 4,
 "nbformat_minor": 5
}
