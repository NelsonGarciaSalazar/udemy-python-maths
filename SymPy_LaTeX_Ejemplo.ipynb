{
 "cells": [
  {
   "cell_type": "code",
   "id": "cd1eb965",
   "metadata": {
    "ExecuteTime": {
     "end_time": "2025-05-15T12:53:02.382572Z",
     "start_time": "2025-05-15T12:53:02.375848Z"
    }
   },
   "source": [
    "from sympy import symbols, Integral, sin, Eq, solve, init_printing\n",
    "from IPython.display import display"
   ],
   "outputs": [],
   "execution_count": 2
  },
  {
   "cell_type": "code",
   "id": "34e4e72f",
   "metadata": {
    "ExecuteTime": {
     "end_time": "2025-05-15T12:53:02.416793Z",
     "start_time": "2025-05-15T12:53:02.407021Z"
    }
   },
   "source": [
    "# Configuramos la impresión en LaTeX\n",
    "init_printing(use_latex='mathjax')"
   ],
   "outputs": [],
   "execution_count": 3
  },
  {
   "cell_type": "code",
   "id": "7e5d86c8",
   "metadata": {
    "ExecuteTime": {
     "end_time": "2025-05-15T12:53:02.429601Z",
     "start_time": "2025-05-15T12:53:02.427495Z"
    }
   },
   "source": [
    "# Declaramos las variables simbólicas que vamos a usar\n",
    "x, y, z = symbols('x y z')"
   ],
   "outputs": [],
   "execution_count": 4
  },
  {
   "cell_type": "code",
   "id": "b7a6dca8",
   "metadata": {
    "ExecuteTime": {
     "end_time": "2025-05-15T12:53:02.611622Z",
     "start_time": "2025-05-15T12:53:02.445438Z"
    }
   },
   "source": [
    "# Ejemplo de integral\n",
    "# Definimos una expresión simbólica\n",
    "expr = Integral(x * sin(x), x)\n",
    "# Mostramos la integral sin resolver\n",
    "display(expr)\n",
    "# Mostramos la solución (paso resuelto)\n",
    "display(expr.doit())"
   ],
   "outputs": [
    {
     "data": {
      "text/plain": [
       "⌠            \n",
       "⎮ x⋅sin(x) dx\n",
       "⌡            "
      ],
      "text/latex": "$\\displaystyle \\int x \\sin{\\left(x \\right)}\\, dx$"
     },
     "metadata": {},
     "output_type": "display_data"
    },
    {
     "data": {
      "text/plain": [
       "-x⋅cos(x) + sin(x)"
      ],
      "text/latex": "$\\displaystyle - x \\cos{\\left(x \\right)} + \\sin{\\left(x \\right)}$"
     },
     "metadata": {},
     "output_type": "display_data"
    }
   ],
   "execution_count": 5
  },
  {
   "cell_type": "code",
   "id": "306668cb",
   "metadata": {
    "ExecuteTime": {
     "end_time": "2025-05-15T12:53:02.634815Z",
     "start_time": "2025-05-15T12:53:02.623712Z"
    }
   },
   "source": [
    "# Resolución de una ecuación cuadrática\n",
    "eq = Eq(x**2 + 2*x + 1, 0)\n",
    "display(eq)\n",
    "sol = solve(eq, x)\n",
    "display(sol)"
   ],
   "outputs": [
    {
     "data": {
      "text/plain": [
       " 2              \n",
       "x  + 2⋅x + 1 = 0"
      ],
      "text/latex": "$\\displaystyle x^{2} + 2 x + 1 = 0$"
     },
     "metadata": {},
     "output_type": "display_data"
    },
    {
     "data": {
      "text/plain": [
       "[-1]"
      ],
      "text/latex": "$\\displaystyle \\left[ -1\\right]$"
     },
     "metadata": {},
     "output_type": "display_data"
    }
   ],
   "execution_count": 6
  },
  {
   "cell_type": "markdown",
   "id": "52eacf1b",
   "metadata": {},
   "source": [
    "#### Ejemplo de Integral en\n",
    "La integral que queremos resolver es:\n",
    "$\\int x \\sin(x)\\,dx$\n",
    "Y su resultado es:\n",
    "$-x \\cos(x) + \\sin(x) + C$"
   ]
  }
 ],
 "metadata": {
  "kernelspec": {
   "display_name": "venv",
   "language": "python",
   "name": "python3"
  },
  "language_info": {
   "codemirror_mode": {
    "name": "ipython",
    "version": 3
   },
   "file_extension": ".py",
   "mimetype": "text/x-python",
   "name": "python",
   "nbconvert_exporter": "python",
   "pygments_lexer": "ipython3",
   "version": "3.13.3"
  }
 },
 "nbformat": 4,
 "nbformat_minor": 5
}
