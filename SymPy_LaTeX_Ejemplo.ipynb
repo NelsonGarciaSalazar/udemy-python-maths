{
 "cells": [
  {
   "cell_type": "code",
   "execution_count": 1,
   "id": "cd1eb965",
   "metadata": {
    "ExecuteTime": {
     "end_time": "2025-05-13T01:40:32.152766Z",
     "start_time": "2025-05-13T01:40:32.128209Z"
    }
   },
   "outputs": [],
   "source": [
    "from sympy import symbols, Integral, sin, Eq, solve, init_printing\n",
    "from IPython.display import display"
   ]
  },
  {
   "cell_type": "code",
   "execution_count": 2,
   "id": "34e4e72f",
   "metadata": {
    "ExecuteTime": {
     "end_time": "2025-05-13T01:39:19.082080Z",
     "start_time": "2025-05-13T01:39:19.017941Z"
    }
   },
   "outputs": [],
   "source": [
    "# Configuramos la impresión en LaTeX\n",
    "init_printing(use_latex='mathjax')"
   ]
  },
  {
   "cell_type": "code",
   "execution_count": 3,
   "id": "7e5d86c8",
   "metadata": {},
   "outputs": [],
   "source": [
    "# Declaramos las variables simbólicas que vamos a usar\n",
    "x, y, z = symbols('x y z')"
   ]
  },
  {
   "cell_type": "code",
   "execution_count": 4,
   "id": "b7a6dca8",
   "metadata": {},
   "outputs": [
    {
     "data": {
      "text/latex": [
       "$\\displaystyle \\int x \\sin{\\left(x \\right)}\\, dx$"
      ],
      "text/plain": [
       "⌠            \n",
       "⎮ x⋅sin(x) dx\n",
       "⌡            "
      ]
     },
     "metadata": {},
     "output_type": "display_data"
    },
    {
     "data": {
      "text/latex": [
       "$\\displaystyle - x \\cos{\\left(x \\right)} + \\sin{\\left(x \\right)}$"
      ],
      "text/plain": [
       "-x⋅cos(x) + sin(x)"
      ]
     },
     "metadata": {},
     "output_type": "display_data"
    }
   ],
   "source": [
    "# Ejemplo de integral\n",
    "# Definimos una expresión simbólica\n",
    "expr = Integral(x * sin(x), x)\n",
    "# Mostramos la integral sin resolver\n",
    "display(expr)\n",
    "# Mostramos la solución (paso resuelto)\n",
    "display(expr.doit())"
   ]
  },
  {
   "cell_type": "code",
   "execution_count": 5,
   "id": "306668cb",
   "metadata": {},
   "outputs": [
    {
     "data": {
      "text/latex": [
       "$\\displaystyle x^{2} + 2 x + 1 = 0$"
      ],
      "text/plain": [
       " 2              \n",
       "x  + 2⋅x + 1 = 0"
      ]
     },
     "metadata": {},
     "output_type": "display_data"
    },
    {
     "data": {
      "text/latex": [
       "$\\displaystyle \\left[ -1\\right]$"
      ],
      "text/plain": [
       "[-1]"
      ]
     },
     "metadata": {},
     "output_type": "display_data"
    }
   ],
   "source": [
    "# Resolución de una ecuación cuadrática\n",
    "eq = Eq(x**2 + 2*x + 1, 0)\n",
    "display(eq)\n",
    "sol = solve(eq, x)\n",
    "display(sol)"
   ]
  },
  {
   "cell_type": "markdown",
   "id": "52eacf1b",
   "metadata": {},
   "source": [
    "#### Ejemplo de Integral en\n",
    "La integral que queremos resolver es:\n",
    "$\\int x \\sin(x)\\,dx$\n",
    "Y su resultado es:\n",
    "$-x \\cos(x) + \\sin(x) + C$"
   ]
  }
 ],
 "metadata": {
  "kernelspec": {
   "display_name": "Python 3",
   "language": "python",
   "name": "python3"
  },
  "language_info": {
   "codemirror_mode": {
    "name": "ipython",
    "version": 3
   },
   "file_extension": ".py",
   "mimetype": "text/x-python",
   "name": "python",
   "nbconvert_exporter": "python",
   "pygments_lexer": "ipython3",
   "version": "3.13.3"
  }
 },
 "nbformat": 4,
 "nbformat_minor": 5
}
